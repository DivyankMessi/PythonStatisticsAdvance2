{
 "cells": [
  {
   "cell_type": "markdown",
   "metadata": {},
   "source": [
    "# Statistics Advance 2"
   ]
  },
  {
   "cell_type": "markdown",
   "metadata": {},
   "source": [
    "## Theory Questions "
   ]
  },
  {
   "cell_type": "markdown",
   "metadata": {},
   "source": [
    "__1. What is hypothesis testing in statistics?__\n",
    "\n",
    "Hypothesis testing is a statistical method used to make decisions or inferences about a population based on sample data. It involves formulating two competing hypotheses (null and alternative), collecting data, and using statistical tests to determine which hypothesis is supported by the data.\n",
    "\n",
    "____2. What is the null hypothesis, and how does it differ from the alternative hypothesis?__\n",
    "\n",
    "Null Hypothesis (H₀): A statement that there is no effect or no difference. It is the default assumption that the observed data is due to chance.\n",
    "\n",
    "Alternative Hypothesis (H₁ or Ha): A statement that contradicts the null hypothesis. It suggests that there is an effect or a difference.\n",
    "\n",
    "Example:\n",
    "\n",
    "H₀: The mean of a population is equal to 10.\n",
    "\n",
    "H₁: The mean of a population is not equal to 10.\n",
    "\n",
    "__3. What is the significance level in hypothesis testing, and why is it important?__\n",
    "\n",
    "Significance Level (α): The probability of rejecting the null hypothesis when it is true (Type I error). Common values are 0.05, 0.01, or 0.10.\n",
    "\n",
    "It is important because it sets the threshold for deciding whether the observed effect is statistically significant.\n",
    "\n",
    "__4. What does a P-value represent in hypothesis testing?__\n",
    "\n",
    "P-value: The probability of observing the test results (or more extreme results) under the assumption that the null hypothesis is true.\n",
    "\n",
    "A low P-value (≤ α) indicates strong evidence against the null hypothesis.\n",
    "\n",
    "__5. How do you interpret the P-value in hypothesis testing?__\n",
    "If P-value ≤ α: Reject the null hypothesis (the result is statistically significant).\n",
    "\n",
    "If P-value > α: Fail to reject the null hypothesis (the result is not statistically significant).\n",
    "\n",
    "__6. What are Type 1 and Type 2 errors in hypothesis testing?__\n",
    "\n",
    "Type 1 Error (α): Rejecting the null hypothesis when it is true (false positive).\n",
    "\n",
    "Type 2 Error (β): Failing to reject the null hypothesis when it is false (false negative).\n",
    "\n",
    "__7. What is the difference between a one-tailed and a two-tailed test in hypothesis testing?__\n",
    "\n",
    "One-tailed test: Tests for the possibility of an effect in one direction (e.g., greater than or less than).\n",
    "\n",
    "Two-tailed test: Tests for the possibility of an effect in both directions (e.g., not equal to).\n",
    "\n",
    "__8. What is the Z-test, and when is it used in hypothesis testing?__\n",
    "\n",
    "Z-test: A statistical test used to determine whether two population means are different when the variances are known and the sample size is large (n ≥ 30).\n",
    "\n",
    "It is used for hypothesis testing about the mean of a population.\n",
    "\n",
    "__9. How do you calculate the Z-score, and what does it represent in hypothesis testing?__\n",
    "\n",
    "Z-score Formula:\n",
    "\n",
    "Z=(X−μ)/(σ*sqrt(n))\n",
    " \n",
    "Where:\n",
    "\n",
    "X  = sample mean\n",
    "\n",
    "μ = population mean\n",
    "\n",
    "σ = population standard deviation\n",
    "\n",
    "n = sample size\n",
    "\n",
    "The Z-score represents how many standard deviations the sample mean is from the population mean.\n",
    "\n",
    "__10. What is the T-distribution, and when should it be used instead of the normal distribution?__\n",
    "\n",
    "T-distribution: A probability distribution used when the sample size is small (n < 30) and the population standard deviation is unknown.\n",
    "\n",
    "It is similar to the normal distribution but has heavier tails.\n",
    "\n",
    "__11. What is the difference between a Z-test and a T-test?__\n",
    "\n",
    "Z-test: Used for large samples (n ≥ 30) with known population variance.\n",
    "\n",
    "T-test: Used for small samples (n < 30) with unknown population variance.\n",
    "\n",
    "__12. What is the T-test, and how is it used in hypothesis testing?__\n",
    "\n",
    "T-test: A statistical test used to compare the means of two groups or to test the mean of a single group against a known value.\n",
    "\n",
    "Types: One-sample T-test, Independent two-sample T-test, Paired T-test.\n",
    "\n",
    "__13. What is the relationship between Z-test and T-test in hypothesis testing?__\n",
    "\n",
    "Both are used to test hypotheses about population means.\n",
    "\n",
    "Z-test is used for large samples with known variance, while T-test is used for small samples with unknown variance.\n",
    "\n",
    "__14. What is a confidence interval, and how is it used to interpret statistical results?__\n",
    "\n",
    "Confidence Interval (CI): A range of values within which the true population parameter is expected to lie, with a certain level of confidence (e.g., 95%).\n",
    "\n",
    "It provides a measure of uncertainty around the sample estimate.\n",
    "\n",
    "__15. What is the margin of error, and how does it affect the confidence interval?__\n",
    "\n",
    "Margin of Error (ME): The range above and below the sample estimate within the confidence interval.\n",
    "\n",
    "It is calculated as:\n",
    "\n",
    "ME=(Z⋅σ)/(sqrt(n)) \n",
    "\n",
    "A larger margin of error results in a wider confidence interval.\n",
    "\n",
    "__16. How is Bayes' Theorem used in statistics, and what is its significance?__\n",
    "\n",
    "Bayes' Theorem: A formula to update the probability of a hypothesis based on new evidence.\n",
    "\n",
    "P(A∣B)= P(B∣A)⋅P(A) / P(B)\n",
    " \n",
    "It is significant in Bayesian statistics for incorporating prior knowledge into statistical inference.\n",
    "\n",
    "__17. What is the Chi-square distribution, and when is it used?__\n",
    "\n",
    "Chi-square Distribution: A probability distribution used for hypothesis testing in categorical data.\n",
    "\n",
    "It is used in tests like the Chi-square goodness of fit test and Chi-square test of independence.\n",
    "\n",
    "__18. What is the Chi-square goodness of fit test, and how is it applied?__\n",
    "\n",
    "Chi-square Goodness of Fit Test: A test to determine whether observed frequencies match expected frequencies in categorical data.\n",
    "\n",
    "Example: Testing if a die is fair.\n",
    "\n",
    "__19. What is the F-distribution, and when is it used in hypothesis testing?__\n",
    "\n",
    "F-distribution: A probability distribution used in ANOVA and regression analysis to compare variances.\n",
    "\n",
    "__20. What is an ANOVA test, and what are its assumptions?__\n",
    "\n",
    "ANOVA (Analysis of Variance): A test to compare the means of three or more groups.\n",
    "\n",
    "Assumptions:\n",
    "\n",
    "Normality of residuals.\n",
    "\n",
    "Homogeneity of variances.\n",
    "\n",
    "Independence of observations.\n",
    "\n",
    "__21. What are the different types of ANOVA tests?__\n",
    "\n",
    "One-way ANOVA: Compares means across one independent variable.\n",
    "\n",
    "Two-way ANOVA: Compares means across two independent variables.\n",
    "\n",
    "Repeated Measures ANOVA: Used for repeated measurements on the same subjects.\n",
    "\n",
    "__22. What is the F-test, and how does it relate to hypothesis testing?__\n",
    "\n",
    "F-test: A test to compare the variances of two populations or to test the overall significance of a regression model.\n",
    "\n",
    "It is used in ANOVA and regression analysis."
   ]
  },
  {
   "cell_type": "markdown",
   "metadata": {},
   "source": [
    "## Practical Questions "
   ]
  },
  {
   "cell_type": "markdown",
   "metadata": {},
   "source": [
    "__Question 1 : Write a Python program to perform a Z-test for comparing a sample mean to a known population mean and interpret the results.__"
   ]
  },
  {
   "cell_type": "code",
   "execution_count": 1,
   "metadata": {},
   "outputs": [
    {
     "name": "stdout",
     "output_type": "stream",
     "text": [
      "Z-score: 1.8257418583505538\n",
      "P-value: 0.067889154861829\n",
      "Fail to reject the null hypothesis: The sample mean is not significantly different from the population mean.\n"
     ]
    }
   ],
   "source": [
    "import numpy as np\n",
    "from scipy.stats import norm\n",
    "\n",
    "# Sample data\n",
    "sample_mean = 105\n",
    "pop_mean = 100\n",
    "pop_std = 15\n",
    "sample_size = 30\n",
    "\n",
    "# Z-test\n",
    "z_score = (sample_mean - pop_mean) / (pop_std / np.sqrt(sample_size))\n",
    "p_value = 2 * (1 - norm.cdf(abs(z_score)))  # Two-tailed test\n",
    "\n",
    "print(f\"Z-score: {z_score}\")\n",
    "print(f\"P-value: {p_value}\")\n",
    "\n",
    "# Interpretation\n",
    "alpha = 0.05\n",
    "if p_value < alpha:\n",
    "    print(\"Reject the null hypothesis: The sample mean is significantly different from the population mean.\")\n",
    "else:\n",
    "    print(\"Fail to reject the null hypothesis: The sample mean is not significantly different from the population mean.\")"
   ]
  },
  {
   "cell_type": "markdown",
   "metadata": {},
   "source": [
    "__Question 2 : Simulate random data to perform hypothesis testing and calculate the corresponding P-value using Python__"
   ]
  },
  {
   "cell_type": "code",
   "execution_count": 2,
   "metadata": {},
   "outputs": [
    {
     "name": "stdout",
     "output_type": "stream",
     "text": [
      "Sample Mean: 102.17779656223442\n",
      "Z-score: 0.7952188685286633\n",
      "P-value: 0.42648619784131947\n"
     ]
    }
   ],
   "source": [
    "# Simulate random data\n",
    "np.random.seed(42)\n",
    "sample_data = np.random.normal(loc=105, scale=15, size=30)\n",
    "pop_mean = 100\n",
    "\n",
    "# Perform Z-test\n",
    "sample_mean = np.mean(sample_data)\n",
    "z_score = (sample_mean - pop_mean) / (15 / np.sqrt(30))\n",
    "p_value = 2 * (1 - norm.cdf(abs(z_score)))\n",
    "\n",
    "print(f\"Sample Mean: {sample_mean}\")\n",
    "print(f\"Z-score: {z_score}\")\n",
    "print(f\"P-value: {p_value}\")"
   ]
  },
  {
   "cell_type": "markdown",
   "metadata": {},
   "source": [
    "__Question 3: Implement a one-sample Z-test using Python to compare the sample mean with the population mean__"
   ]
  },
  {
   "cell_type": "code",
   "execution_count": 42,
   "metadata": {},
   "outputs": [
    {
     "name": "stdout",
     "output_type": "stream",
     "text": [
      "Z-score: -2.8563\n",
      "P-value: 0.0043 (Reject H0)\n"
     ]
    }
   ],
   "source": [
    "import numpy as np\n",
    "from scipy import stats\n",
    "\n",
    "def one_sample_z_test(sample, pop_mean, pop_std):\n",
    "    \"\"\"\n",
    "    Performs a one-sample Z-test.\n",
    "    \n",
    "    Parameters:\n",
    "    sample (array-like): Sample data\n",
    "    pop_mean (float): Population mean\n",
    "    pop_std (float): Population standard deviation (assumed known)\n",
    "    \n",
    "    Returns:\n",
    "    z_score (float): Computed Z-score\n",
    "    p_value (float): Two-tailed p-value\n",
    "    \"\"\"\n",
    "    sample_mean = np.mean(sample)\n",
    "    sample_size = len(sample)\n",
    "    \n",
    "    # Calculate Z-score\n",
    "    z_score = (sample_mean - pop_mean) / (pop_std / np.sqrt(sample_size))\n",
    "    \n",
    "    # Calculate p-value (two-tailed test)\n",
    "    p_value = 2 * (1 - stats.norm.cdf(abs(z_score)))\n",
    "    \n",
    "    return z_score, p_value\n",
    "\n",
    "# Example usage\n",
    "np.random.seed(42)\n",
    "sample_data = np.random.normal(100, 15, 30)  # Sample from N(100, 15^2)\n",
    "population_mean = 105\n",
    "population_std = 15\n",
    "\n",
    "z_score, p_value = one_sample_z_test(sample_data, population_mean, population_std)\n",
    "\n",
    "print(f\"Z-score: {z_score:.4f}\")\n",
    "print(f\"P-value: {p_value:.4f} {'(Fail to reject H0)' if p_value > 0.05 else '(Reject H0)'}\")\n"
   ]
  },
  {
   "cell_type": "markdown",
   "metadata": {},
   "source": [
    "__Question 4 : Perform a two-tailed Z-test using Python and visualize the decision region on a plot.__"
   ]
  },
  {
   "cell_type": "code",
   "execution_count": 6,
   "metadata": {},
   "outputs": [
    {
     "data": {
      "image/png": "[encoded data removed]",
      "text/plain": [
       "<Figure size 432x288 with 1 Axes>"
      ]
     },
     "metadata": {
      "needs_background": "light"
     },
     "output_type": "display_data"
    }
   ],
   "source": [
    "import matplotlib.pyplot as plt\n",
    "\n",
    "sample_data = [105, 110, 102, 108, 107, 104, 103, 106, 109, 105]\n",
    "pop_mean = 100\n",
    "\n",
    "# Z-test\n",
    "z_score = (sample_mean - pop_mean) / (15 / np.sqrt(30))\n",
    "p_value = 2 * (1 - norm.cdf(abs(z_score)))\n",
    "\n",
    "# Visualization\n",
    "x = np.linspace(-4, 4, 1000)\n",
    "y = norm.pdf(x)\n",
    "plt.plot(x, y, label=\"Standard Normal Distribution\")\n",
    "plt.axvline(z_score, color='red', linestyle='--', label=f\"Z-score: {z_score:.2f}\")\n",
    "plt.fill_between(x, y, where=(x >= abs(z_score)) | (x <= -abs(z_score)), color='red', alpha=0.5, label=\"Rejection Region\")\n",
    "plt.legend()\n",
    "plt.title(\"Two-tailed Z-test\")\n",
    "plt.show()"
   ]
  },
  {
   "cell_type": "markdown",
   "metadata": {},
   "source": [
    "__Question 5 : Create a Python function that calculates and visualizes Type 1 and Type 2 errors during hypothesis testing.__"
   ]
  },
  {
   "cell_type": "code",
   "execution_count": 8,
   "metadata": {},
   "outputs": [
    {
     "name": "stdout",
     "output_type": "stream",
     "text": [
      "Type 1 Error (α): 0.05\n",
      "Type 2 Error (β): 0.2\n",
      "Power of the Test (1 - β): 0.8\n"
     ]
    }
   ],
   "source": [
    "def type1_type2_error(alpha, beta):\n",
    "    print(f\"Type 1 Error (α): {alpha}\")\n",
    "    print(f\"Type 2 Error (β): {beta}\")\n",
    "    print(f\"Power of the Test (1 - β): {1 - beta}\")\n",
    "\n",
    "# Example\n",
    "type1_type2_error(alpha=0.05, beta=0.20)"
   ]
  },
  {
   "cell_type": "markdown",
   "metadata": {},
   "source": [
    "__Question 6 : Write a Python program to perform an independent T-test and interpret the results.__"
   ]
  },
  {
   "cell_type": "code",
   "execution_count": 9,
   "metadata": {},
   "outputs": [
    {
     "name": "stdout",
     "output_type": "stream",
     "text": [
      "T-statistic: 0.09853292781643072\n",
      "P-value: 0.9239332723098304\n"
     ]
    }
   ],
   "source": [
    "from scipy.stats import ttest_ind\n",
    "\n",
    "# Sample data\n",
    "group1 = [23, 25, 28, 30, 27]\n",
    "group2 = [26, 24, 29, 31, 22]\n",
    "\n",
    "# Perform T-test\n",
    "t_stat, p_value = ttest_ind(group1, group2)\n",
    "print(f\"T-statistic: {t_stat}\")\n",
    "print(f\"P-value: {p_value}\")"
   ]
  },
  {
   "cell_type": "markdown",
   "metadata": {},
   "source": [
    "__Question 7 : Perform a paired sample T-test using Python and visualize the comparison results.__"
   ]
  },
  {
   "cell_type": "code",
   "execution_count": 10,
   "metadata": {},
   "outputs": [
    {
     "name": "stdout",
     "output_type": "stream",
     "text": [
      "T-statistic: 0.14744195615489714\n",
      "P-value: 0.8899165133405488\n"
     ]
    }
   ],
   "source": [
    "from scipy.stats import ttest_rel\n",
    "\n",
    "# Sample data\n",
    "before = [23, 25, 28, 30, 27]\n",
    "after = [26, 24, 29, 31, 22]\n",
    "\n",
    "# Perform T-test\n",
    "t_stat, p_value = ttest_rel(before, after)\n",
    "print(f\"T-statistic: {t_stat}\")\n",
    "print(f\"P-value: {p_value}\")"
   ]
  },
  {
   "cell_type": "markdown",
   "metadata": {},
   "source": [
    "__Question 8 : Simulate data and perform both Z-test and T-test, then compare the results using Python__"
   ]
  },
  {
   "cell_type": "code",
   "execution_count": 13,
   "metadata": {},
   "outputs": [
    {
     "name": "stdout",
     "output_type": "stream",
     "text": [
      "Z-test: Z-statistic = -1.1292, p-value = 0.2588\n",
      "T-test: T-statistic = -1.1292, p-value = 0.2634\n",
      "The Z-test and T-test yield different results.\n"
     ]
    }
   ],
   "source": [
    "import numpy as np\n",
    "import scipy.stats as stats\n",
    "\n",
    "# Step 1: Simulate Data\n",
    "np.random.seed(42)  # For reproducibility\n",
    "n1, n2 = 30, 30  # Sample sizes for two groups\n",
    "mu1, mu2 = 50, 52  # Means\n",
    "sigma1, sigma2 = 10, 10  # Standard deviations\n",
    "\n",
    "data1 = np.random.normal(mu1, sigma1, n1)\n",
    "data2 = np.random.normal(mu2, sigma2, n2)\n",
    "\n",
    "# Step 2: Perform Z-test\n",
    "# Z-test assumes known population standard deviation, so we estimate it from the sample\n",
    "pooled_std = np.sqrt(((n1 - 1) * np.var(data1, ddof=1) + (n2 - 1) * np.var(data2, ddof=1)) / (n1 + n2 - 2))\n",
    "se = pooled_std * np.sqrt(1/n1 + 1/n2)\n",
    "z_stat = (np.mean(data1) - np.mean(data2)) / se\n",
    "p_value_z = 2 * (1 - stats.norm.cdf(abs(z_stat)))  # Two-tailed test\n",
    "\n",
    "# Step 3: Perform T-test\n",
    "t_stat, p_value_t = stats.ttest_ind(data1, data2, equal_var=True)\n",
    "\n",
    "# Step 4: Print results\n",
    "print(f\"Z-test: Z-statistic = {z_stat:.4f}, p-value = {p_value_z:.4f}\")\n",
    "print(f\"T-test: T-statistic = {t_stat:.4f}, p-value = {p_value_t:.4f}\")\n",
    "\n",
    "# Comparison\n",
    "if np.isclose(p_value_z, p_value_t, atol=1e-3):\n",
    "    print(\"The Z-test and T-test yield similar results.\")\n",
    "else:\n",
    "    print(\"The Z-test and T-test yield different results.\")\n"
   ]
  },
  {
   "cell_type": "markdown",
   "metadata": {},
   "source": [
    "__Question 9 : Write a Python function to calculate the confidence interval for a sample mean and explain its significance.__"
   ]
  },
  {
   "cell_type": "code",
   "execution_count": 14,
   "metadata": {},
   "outputs": [
    {
     "name": "stdout",
     "output_type": "stream",
     "text": [
      "Confidence Interval: (23.245208615073338, 29.954791384926665)\n"
     ]
    }
   ],
   "source": [
    "def confidence_interval(data, confidence=0.95):\n",
    "    n = len(data)\n",
    "    mean = np.mean(data)\n",
    "    std_err = stats.sem(data)\n",
    "    margin_error = std_err * stats.t.ppf((1 + confidence) / 2, n - 1)\n",
    "    return (mean - margin_error, mean + margin_error)\n",
    "\n",
    "# Example\n",
    "sample_data = [23, 25, 28, 30, 27]\n",
    "ci = confidence_interval(sample_data)\n",
    "print(f\"Confidence Interval: {ci}\")"
   ]
  },
  {
   "cell_type": "markdown",
   "metadata": {},
   "source": [
    "__Question 10 : Write a Python program to calculate the margin of error for a given confidence level using sample data.__"
   ]
  },
  {
   "cell_type": "code",
   "execution_count": 15,
   "metadata": {},
   "outputs": [
    {
     "name": "stdout",
     "output_type": "stream",
     "text": [
      "Margin of Error: 3.3547913849266617\n"
     ]
    }
   ],
   "source": [
    "def margin_of_error(data, confidence=0.95):\n",
    "    n = len(data)\n",
    "    std_err = stats.sem(data)\n",
    "    return std_err * stats.t.ppf((1 + confidence) / 2, n - 1)\n",
    "\n",
    "# Example\n",
    "sample_data = [23, 25, 28, 30, 27]\n",
    "me = margin_of_error(sample_data)\n",
    "print(f\"Margin of Error: {me}\")"
   ]
  },
  {
   "cell_type": "markdown",
   "metadata": {},
   "source": [
    "__Question 11 :  Implement a Bayesian inference method using Bayes' Theorem in Python and explain the process.__"
   ]
  },
  {
   "cell_type": "code",
   "execution_count": 16,
   "metadata": {},
   "outputs": [
    {
     "name": "stdout",
     "output_type": "stream",
     "text": [
      "Posterior Probability: 0.16101694915254236\n"
     ]
    }
   ],
   "source": [
    "def bayes_theorem(p_a, p_b_given_a, p_b_given_not_a):\n",
    "    p_not_a = 1 - p_a\n",
    "    p_b = p_b_given_a * p_a + p_b_given_not_a * p_not_a\n",
    "    p_a_given_b = (p_b_given_a * p_a) / p_b\n",
    "    return p_a_given_b\n",
    "\n",
    "# Example\n",
    "p_a = 0.01  # Prior probability\n",
    "p_b_given_a = 0.95  # Likelihood\n",
    "p_b_given_not_a = 0.05  # False positive rate\n",
    "result = bayes_theorem(p_a, p_b_given_a, p_b_given_not_a)\n",
    "print(f\"Posterior Probability: {result}\")"
   ]
  },
  {
   "cell_type": "markdown",
   "metadata": {},
   "source": [
    "__Question 12 : Perform a Chi-square test for independence between two categorical variables in Python__ "
   ]
  },
  {
   "cell_type": "code",
   "execution_count": 18,
   "metadata": {},
   "outputs": [
    {
     "name": "stdout",
     "output_type": "stream",
     "text": [
      "Chi-square Statistic: 15.041666666666668\n",
      "P-value: 0.00010516355403363114\n"
     ]
    }
   ],
   "source": [
    "from scipy.stats import chi2_contingency\n",
    "\n",
    "# Contingency table\n",
    "data = [[30, 20], [10, 40]]\n",
    "chi2, p_value, dof, expected = chi2_contingency(data)\n",
    "print(f\"Chi-square Statistic: {chi2}\")\n",
    "print(f\"P-value: {p_value}\")"
   ]
  },
  {
   "cell_type": "markdown",
   "metadata": {},
   "source": [
    "__Question 13 : Write a Python program to calculate the expected frequencies for a Chi-square test based on observed\n",
    "data__"
   ]
  },
  {
   "cell_type": "code",
   "execution_count": 20,
   "metadata": {},
   "outputs": [
    {
     "name": "stdout",
     "output_type": "stream",
     "text": [
      "Expected Frequencies: [[20. 30.]\n",
      " [20. 30.]]\n"
     ]
    }
   ],
   "source": [
    "# Using the same contingency table\n",
    "print(f\"Expected Frequencies: {expected}\")"
   ]
  },
  {
   "cell_type": "markdown",
   "metadata": {},
   "source": [
    "__Question 14 : Perform a goodness-of-fit test using Python to compare the observed data to an expected distribution__"
   ]
  },
  {
   "cell_type": "code",
   "execution_count": 22,
   "metadata": {},
   "outputs": [
    {
     "name": "stdout",
     "output_type": "stream",
     "text": [
      "Chi-square Statistic: 2.0\n",
      "P-value: 0.36787944117144245\n"
     ]
    }
   ],
   "source": [
    "from scipy.stats import chisquare\n",
    "\n",
    "# Observed and expected frequencies\n",
    "observed = [25, 30, 20]\n",
    "expected = [25, 25, 25]\n",
    "chi2, p_value = chisquare(observed, expected)\n",
    "print(f\"Chi-square Statistic: {chi2}\")\n",
    "print(f\"P-value: {p_value}\")"
   ]
  },
  {
   "cell_type": "markdown",
   "metadata": {},
   "source": [
    "__Question 15 : Create a Python script to simulate and visualize the Chi-square distribution and discuss its characteristics.__"
   ]
  },
  {
   "cell_type": "code",
   "execution_count": 23,
   "metadata": {},
   "outputs": [
    {
     "data": {
      "image/png": "[encoded data removed]",
      "text/plain": [
       "<Figure size 432x288 with 1 Axes>"
      ]
     },
     "metadata": {
      "needs_background": "light"
     },
     "output_type": "display_data"
    }
   ],
   "source": [
    "# Plot Chi-square distribution\n",
    "df = 5\n",
    "x = np.linspace(0, 20, 1000)\n",
    "y = stats.chi2.pdf(x, df)\n",
    "plt.plot(x, y, label=f\"Chi-square (df={df})\")\n",
    "plt.legend()\n",
    "plt.title(\"Chi-square Distribution\")\n",
    "plt.show()"
   ]
  },
  {
   "cell_type": "markdown",
   "metadata": {},
   "source": [
    "__Question 16 :  Implement an F-test using Python to compare the variances of two random samples__"
   ]
  },
  {
   "cell_type": "code",
   "execution_count": 25,
   "metadata": {},
   "outputs": [
    {
     "name": "stdout",
     "output_type": "stream",
     "text": [
      "F-statistic: 0.009708737864077669\n",
      "P-value: 0.9239332723098347\n"
     ]
    }
   ],
   "source": [
    "from scipy.stats import f_oneway\n",
    "\n",
    "# Sample data\n",
    "group1 = [23, 25, 28, 30, 27]\n",
    "group2 = [26, 24, 29, 31, 22]\n",
    "\n",
    "# Perform F-test\n",
    "f_stat, p_value = f_oneway(group1, group2)\n",
    "print(f\"F-statistic: {f_stat}\")\n",
    "print(f\"P-value: {p_value}\")"
   ]
  },
  {
   "cell_type": "markdown",
   "metadata": {},
   "source": [
    "__Question 17 : Write a Python program to perform an ANOVA test to compare means between multiple groups and\n",
    "interpret the results.__"
   ]
  },
  {
   "cell_type": "code",
   "execution_count": 27,
   "metadata": {},
   "outputs": [
    {
     "name": "stdout",
     "output_type": "stream",
     "text": [
      "F-statistic: 1.5061728395061729\n",
      "P-value: 0.2608531826814889\n"
     ]
    }
   ],
   "source": [
    "# Perform ANOVA\n",
    "group1 = [23, 25, 28, 30, 27]\n",
    "group2 = [26, 24, 29, 31, 22]\n",
    "group3 = [30, 32, 28, 27, 29]\n",
    "f_stat, p_value = f_oneway(group1, group2, group3)\n",
    "print(f\"F-statistic: {f_stat}\")\n",
    "print(f\"P-value: {p_value}\")"
   ]
  },
  {
   "cell_type": "markdown",
   "metadata": {},
   "source": [
    "__Question 18 : Perform a one-way ANOVA test using Python to compare the means of different groups and plot the results__"
   ]
  },
  {
   "cell_type": "code",
   "execution_count": 28,
   "metadata": {},
   "outputs": [
    {
     "data": {
      "image/png": "[encoded data removed]",
      "text/plain": [
       "<Figure size 432x288 with 1 Axes>"
      ]
     },
     "metadata": {
      "needs_background": "light"
     },
     "output_type": "display_data"
    }
   ],
   "source": [
    "import seaborn as sns\n",
    "\n",
    "# Data\n",
    "data = [group1, group2, group3]\n",
    "sns.boxplot(data=data)\n",
    "plt.title(\"One-way ANOVA\")\n",
    "plt.show()"
   ]
  },
  {
   "cell_type": "markdown",
   "metadata": {},
   "source": [
    "__Question 19 : Write a Python function to check the assumptions (normality, independence, and equal variance) for ANOVA__"
   ]
  },
  {
   "cell_type": "code",
   "execution_count": 33,
   "metadata": {},
   "outputs": [
    {
     "name": "stdout",
     "output_type": "stream",
     "text": [
      "Group 1: Shapiro-Wilk p-value = 0.6868 (Fail to reject normality)\n",
      "Group 2: Shapiro-Wilk p-value = 0.9130 (Fail to reject normality)\n",
      "Group 3: Shapiro-Wilk p-value = 0.3654 (Fail to reject normality)\n",
      "Levene’s test p-value = 0.8627 (Equal variances)\n"
     ]
    },
    {
     "data": {
      "image/png": "[encoded data removed]",
      "text/plain": [
       "<Figure size 432x288 with 1 Axes>"
      ]
     },
     "metadata": {
      "needs_background": "light"
     },
     "output_type": "display_data"
    }
   ],
   "source": [
    "import numpy as np\n",
    "import scipy.stats as stats\n",
    "import matplotlib.pyplot as plt\n",
    "import seaborn as sns\n",
    "\n",
    "def check_anova_assumptions(data):\n",
    "    \"\"\"\n",
    "    Checks the assumptions for ANOVA: normality, independence, and equal variance.\n",
    "    \n",
    "    Parameters:\n",
    "    data (list of arrays): List of groups (each group is an array of values)\n",
    "    \"\"\"\n",
    "    # Normality test (Shapiro-Wilk)\n",
    "    for i, group in enumerate(data):\n",
    "        stat, p = stats.shapiro(group)\n",
    "        print(f\"Group {i+1}: Shapiro-Wilk p-value = {p:.4f} {'(Fail to reject normality)' if p > 0.05 else '(Reject normality)'}\")\n",
    "    \n",
    "    # Homogeneity of variance test (Levene's test)\n",
    "    stat, p = stats.levene(*data)\n",
    "    print(f\"Levene’s test p-value = {p:.4f} {'(Equal variances)' if p > 0.05 else '(Unequal variances)'}\")\n",
    "    \n",
    "    # Independence check - Residuals vs. Fitted Values Plot\n",
    "    all_data = np.concatenate(data)\n",
    "    groups = np.concatenate([[i] * len(group) for i, group in enumerate(data)])\n",
    "    residuals = all_data - np.mean(all_data)\n",
    "    \n",
    "    plt.scatter(groups, residuals)\n",
    "    plt.axhline(0, color='r', linestyle='dashed')\n",
    "    plt.xlabel(\"Group\")\n",
    "    plt.ylabel(\"Residuals\")\n",
    "    plt.title(\"Residuals vs Groups (Checking Independence)\")\n",
    "    plt.show()\n",
    "\n",
    "# Example usage\n",
    "np.random.seed(42)\n",
    "group1 = np.random.normal(50, 10, 30)\n",
    "group2 = np.random.normal(52, 10, 30)\n",
    "group3 = np.random.normal(48, 10, 30)\n",
    "\n",
    "check_anova_assumptions([group1, group2, group3])\n"
   ]
  },
  {
   "cell_type": "markdown",
   "metadata": {},
   "source": [
    "__Question 20 : Perform a two-way ANOVA test using Python to study the interaction between two factors and visualize the\n",
    "results__"
   ]
  },
  {
   "cell_type": "code",
   "execution_count": 34,
   "metadata": {},
   "outputs": [
    {
     "name": "stdout",
     "output_type": "stream",
     "text": [
      "                              sum_sq    df          F    PR(>F)\n",
      "C(Factor_A)              1707.683647   1.0  20.253047  0.000037\n",
      "C(Factor_B)               132.629126   2.0   0.786488  0.460588\n",
      "C(Factor_A):C(Factor_B)   177.425349   2.0   1.052128  0.356242\n",
      "Residual                 4553.137854  54.0        NaN       NaN\n"
     ]
    },
    {
     "data": {
      "image/png": "[encoded data removed]",
      "text/plain": [
       "<Figure size 576x432 with 1 Axes>"
      ]
     },
     "metadata": {
      "needs_background": "light"
     },
     "output_type": "display_data"
    }
   ],
   "source": [
    "import pandas as pd\n",
    "import statsmodels.api as sm\n",
    "from statsmodels.formula.api import ols\n",
    "\n",
    "# Simulating data\n",
    "np.random.seed(42)\n",
    "factor_A = np.repeat(['Low', 'High'], 30)\n",
    "factor_B = np.tile(['A', 'B', 'C'], 20)\n",
    "response = np.random.normal(50, 10, 60) + (np.array([0 if a == 'Low' else 5 for a in factor_A]) * 2)\n",
    "\n",
    "df = pd.DataFrame({'Factor_A': factor_A, 'Factor_B': factor_B, 'Response': response})\n",
    "\n",
    "# Two-Way ANOVA\n",
    "model = ols('Response ~ C(Factor_A) + C(Factor_B) + C(Factor_A):C(Factor_B)', data=df).fit()\n",
    "anova_table = sm.stats.anova_lm(model, typ=2)\n",
    "print(anova_table)\n",
    "\n",
    "# Interaction visualization\n",
    "plt.figure(figsize=(8,6))\n",
    "sns.boxplot(x='Factor_A', y='Response', hue='Factor_B', data=df)\n",
    "plt.title(\"Interaction Plot\")\n",
    "plt.show()\n"
   ]
  },
  {
   "cell_type": "markdown",
   "metadata": {},
   "source": [
    "__Question 21 : Write a Python program to visualize the F-distribution and discuss its use in hypothesis testing__"
   ]
  },
  {
   "cell_type": "code",
   "execution_count": 35,
   "metadata": {},
   "outputs": [
    {
     "name": "stderr",
     "output_type": "stream",
     "text": [
      "C:\\ProgramData\\Anaconda3\\lib\\site-packages\\scipy\\stats\\_continuous_distns.py:1680: RuntimeWarning: divide by zero encountered in log\n",
      "  lPx = m/2 * np.log(m) + n/2 * np.log(n) + (n/2 - 1) * np.log(x)\n"
     ]
    },
    {
     "data": {
      "image/png": "[encoded data removed]",
      "text/plain": [
       "<Figure size 432x288 with 1 Axes>"
      ]
     },
     "metadata": {
      "needs_background": "light"
     },
     "output_type": "display_data"
    }
   ],
   "source": [
    "x = np.linspace(0, 5, 1000)\n",
    "dfn, dfd = 5, 10  # Degrees of freedom\n",
    "f_dist = stats.f.pdf(x, dfn, dfd)\n",
    "\n",
    "plt.plot(x, f_dist, label=f'F-distribution (df1={dfn}, df2={dfd})')\n",
    "plt.axvline(stats.f.ppf(0.95, dfn, dfd), color='r', linestyle='dashed', label='Critical Value (alpha=0.05)')\n",
    "plt.title(\"F-Distribution\")\n",
    "plt.legend()\n",
    "plt.show()\n"
   ]
  },
  {
   "cell_type": "markdown",
   "metadata": {},
   "source": [
    "__Question 22 : Perform a one-way ANOVA test in Python and visualize the results with boxplots to compare group means__"
   ]
  },
  {
   "cell_type": "code",
   "execution_count": 36,
   "metadata": {},
   "outputs": [
    {
     "name": "stdout",
     "output_type": "stream",
     "text": [
      "ANOVA p-value = 0.4524\n"
     ]
    },
    {
     "data": {
      "image/png": "[encoded data removed]",
      "text/plain": [
       "<Figure size 432x288 with 1 Axes>"
      ]
     },
     "metadata": {
      "needs_background": "light"
     },
     "output_type": "display_data"
    }
   ],
   "source": [
    "anova_result = stats.f_oneway(group1, group2, group3)\n",
    "print(f\"ANOVA p-value = {anova_result.pvalue:.4f}\")\n",
    "\n",
    "sns.boxplot(data=[group1, group2, group3])\n",
    "plt.xticks([0, 1, 2], [\"Group 1\", \"Group 2\", \"Group 3\"])\n",
    "plt.title(\"Boxplot for One-Way ANOVA\")\n",
    "plt.show()\n"
   ]
  },
  {
   "cell_type": "markdown",
   "metadata": {},
   "source": [
    "__Question 23 : Simulate random data from a normal distribution, then perform hypothesis testing to evaluate the means__"
   ]
  },
  {
   "cell_type": "code",
   "execution_count": 37,
   "metadata": {},
   "outputs": [
    {
     "name": "stdout",
     "output_type": "stream",
     "text": [
      "t-test p-value = 0.8723 (Fail to reject H0)\n"
     ]
    }
   ],
   "source": [
    "data = np.random.normal(50, 10, 100)\n",
    "t_stat, p_val = stats.ttest_1samp(data, 50)\n",
    "print(f\"t-test p-value = {p_val:.4f} {'(Fail to reject H0)' if p_val > 0.05 else '(Reject H0)'}\")\n"
   ]
  },
  {
   "cell_type": "markdown",
   "metadata": {},
   "source": [
    "__Question 24 : Perform a hypothesis test for population variance using a Chi-square distribution and interpret the results__"
   ]
  },
  {
   "cell_type": "code",
   "execution_count": 38,
   "metadata": {},
   "outputs": [
    {
     "name": "stdout",
     "output_type": "stream",
     "text": [
      "Chi-square p-value = 0.5648 (Fail to reject H0)\n"
     ]
    }
   ],
   "source": [
    "sample = np.random.normal(50, 10, 30)\n",
    "chi2_stat = (len(sample) - 1) * np.var(sample, ddof=1) / (10**2)\n",
    "p_val = 1 - stats.chi2.cdf(chi2_stat, len(sample) - 1)\n",
    "print(f\"Chi-square p-value = {p_val:.4f} {'(Fail to reject H0)' if p_val > 0.05 else '(Reject H0)'}\")\n"
   ]
  },
  {
   "cell_type": "markdown",
   "metadata": {},
   "source": [
    "__Question 25 : Write a Python script to perform a Z-test for comparing proportions between two datasets or groups__"
   ]
  },
  {
   "cell_type": "code",
   "execution_count": 39,
   "metadata": {},
   "outputs": [
    {
     "name": "stdout",
     "output_type": "stream",
     "text": [
      "Z-test p-value = 0.4745 (Fail to reject H0)\n"
     ]
    }
   ],
   "source": [
    "from statsmodels.stats.proportion import proportions_ztest\n",
    "\n",
    "count = np.array([45, 40])  # Successes in each group\n",
    "nobs = np.array([100, 100])  # Total observations in each group\n",
    "\n",
    "z_stat, p_val = proportions_ztest(count, nobs)\n",
    "print(f\"Z-test p-value = {p_val:.4f} {'(Fail to reject H0)' if p_val > 0.05 else '(Reject H0)'}\")\n"
   ]
  },
  {
   "cell_type": "markdown",
   "metadata": {},
   "source": [
    "__Question 26 :  Implement an F-test for comparing the variances of two datasets, then interpret and visualize the results__"
   ]
  },
  {
   "cell_type": "code",
   "execution_count": 40,
   "metadata": {},
   "outputs": [
    {
     "name": "stdout",
     "output_type": "stream",
     "text": [
      "F-test p-value = 0.5719 (Fail to reject H0)\n"
     ]
    },
    {
     "data": {
      "image/png": "[encoded data removed]",
      "text/plain": [
       "<Figure size 432x288 with 1 Axes>"
      ]
     },
     "metadata": {
      "needs_background": "light"
     },
     "output_type": "display_data"
    }
   ],
   "source": [
    "var1 = np.var(group1, ddof=1)\n",
    "var2 = np.var(group2, ddof=1)\n",
    "f_stat = var1 / var2\n",
    "p_val = 1 - stats.f.cdf(f_stat, len(group1) - 1, len(group2) - 1)\n",
    "print(f\"F-test p-value = {p_val:.4f} {'(Fail to reject H0)' if p_val > 0.05 else '(Reject H0)'}\")\n",
    "\n",
    "plt.hist(group1, alpha=0.5, label=\"Group 1\")\n",
    "plt.hist(group2, alpha=0.5, label=\"Group 2\")\n",
    "plt.legend()\n",
    "plt.title(\"Variance Comparison\")\n",
    "plt.show()\n"
   ]
  },
  {
   "cell_type": "markdown",
   "metadata": {},
   "source": [
    "__Question 27 :  Perform a Chi-square test for goodness of fit with simulated data and analyze the results.__"
   ]
  },
  {
   "cell_type": "code",
   "execution_count": 41,
   "metadata": {},
   "outputs": [
    {
     "name": "stdout",
     "output_type": "stream",
     "text": [
      "Chi-Square p-value = 0.0821 (Fail to reject H0)\n"
     ]
    }
   ],
   "source": [
    "observed = np.array([50, 30, 20])\n",
    "expected = np.array([40, 40, 20])\n",
    "\n",
    "chi2_stat, p_val = stats.chisquare(observed, expected)\n",
    "print(f\"Chi-Square p-value = {p_val:.4f} {'(Fail to reject H0)' if p_val > 0.05 else '(Reject H0)'}\")\n"
   ]
  },
  {
   "cell_type": "markdown",
   "metadata": {},
   "source": [
    "## Thank You !"
   ]
  }
 ],
 "metadata": {
  "kernelspec": {
   "display_name": "Python 3",
   "language": "python",
   "name": "python3"
  },
  "language_info": {
   "codemirror_mode": {
    "name": "ipython",
    "version": 3
   },
   "file_extension": ".py",
   "mimetype": "text/x-python",
   "name": "python",
   "nbconvert_exporter": "python",
   "pygments_lexer": "ipython3",
   "version": "3.7.3"
  }
 },
 "nbformat": 4,
 "nbformat_minor": 2
}
